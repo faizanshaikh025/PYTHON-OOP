{
  "nbformat": 4,
  "nbformat_minor": 0,
  "metadata": {
    "colab": {
      "provenance": []
    },
    "kernelspec": {
      "name": "python3",
      "display_name": "Python 3"
    },
    "language_info": {
      "name": "python"
    }
  },
  "cells": [
    {
      "cell_type": "markdown",
      "source": [
        "> Python OOPs"
      ],
      "metadata": {
        "id": "xllLeTeDkiWG"
      }
    },
    {
      "cell_type": "markdown",
      "source": [
        "# Thoery Questions\n",
        "Q1.What is Object-Oriented Programming (OOP)?\n",
        "  - Object-Oriented Programming (OOP) is a programming paradigm that organizes software design around objects rather than functions and logic.\n",
        "\n",
        "    An object is a self-contained unit that consists of data (attributes) and behavior (methods). OOP focuses on creating reusable, modular, and scalable code by modeling real-world entities.\n",
        "\n",
        "Q2.What is a class in OOP ?\n",
        "  - In Object-Oriented Programming (OOP), a class is a blueprint or template that defines the structure and behavior of objects. It encapsulates:\n",
        "\n",
        "   > Attributes (Data/Properties) → Variables that hold the state of an object.\n",
        "\n",
        "    > Methods (Functions/Behavior) → Actions that an object can perform.\n",
        "\n",
        "Q3.What is an object in OOP ?\n",
        "  - An object is a component of a program that knows how to perform certain actions and how to interact with other elements of the program.\n",
        "\n",
        "Q4.What is the difference between abstraction and encapsulation ?\n",
        "  - Abstraction is the method of hiding the unwanted information. Whereas encapsulation is a method to hide the data in a single entity or unit along with a method to protect information from outside.\n",
        "\n",
        "Q5.What are dunder methods in Python ?\n",
        "  - Dunder methods, also known as magic methods or special methods, are predefined methods in Python that have double underscores (or “dunders”) at the beginning and end of their names. These methods provide a way to define specific behaviors for built-in operations or functionalities in Python classes.\n",
        "\n",
        "Q6.Explain the concept of inheritance in OOP.\n",
        "  - Inheritance is one of the core concepts of object-oriented programming (OOP) languages. It is a mechanism where you can derive a class from another class for a hierarchy of classes that share a set of attributes and methods.\n",
        "\n",
        "Q7.What is polymorphism in OOP ?\n",
        "  - Polymorphism is a feature of object-oriented programming languages that allows a specific routine to use variables of different types at different times. Polymorphism in programming gives a program the ability to redefine methods for derived classes.\n",
        "\n",
        "Q8.How is encapsulation achieved in Python ?\n",
        "   - Encapsulation is achieved by declaring a class's data members and methods as either private or protected. But in Python, we do not have keywords like public, private, and protected, as in the case of Java. Instead, we achieve this by using single and double underscores.\n",
        "\n",
        "Q9.What is a constructor in Python?\n",
        "  - In Python, a constructor is a special method called when an object is created. Its purpose is to assign values to the data members within the class when an object is initialized. The name of the constructor method is always __init__.\n",
        "\n",
        "Q10.What are class and static methods in Python?\n",
        "   -   Class methods can access and modify class-level attributes. They have access to the class object and can modify class variables or create new instances of the class.\n",
        "\n",
        "    - Static methods, on the other hand, do not have access to the class object and cannot modify any class-level attributes.\n",
        "\n",
        "Q11.What is method overloading in Python?\n",
        "   - The concept of method overloading in Python refers to the ability to define multiple methods of the same name, but with different parameters.\n",
        "\n",
        "Q12.What is method overriding in OOP?\n",
        "  - In object-oriented programming, is a language feature that allows a subclass or child class to provide a specific implementation of a method that is already provided by one of its superclasses or parent classes.\n",
        "\n",
        "Q13.What is a property decorator in Python?\n",
        " -  The @property decorator in Python is a built-in feature that allows you to define getter, setter, and deleter methods for class attributes in a clean and Pythonic way. It helps in:\n",
        "\n",
        "  >Encapsulating attribute access (controlled modification).\n",
        "\n",
        "  >Adding validation logic before setting values.\n",
        "\n",
        "  >Making read-only or computed attributes.\n",
        "\n",
        "  >Maintaining backward compatibility when modifying attributes.\n",
        "\n",
        "Q14.Why is polymorphism important in OOP?\n",
        "  - Polymorphism is a feature of object-oriented programming languages that allows a specific routine to use variables of different types at different times. Polymorphism in programming gives a program the ability to redefine methods for derived classes.\n",
        "\n",
        "Q15.What is an abstract class in Python?\n",
        "  - In Python, an abstract class is a class that cannot be instantiated on its own and is meant to be subclassed by other classes.\n",
        "\n",
        "Q16.What are the advantages of OOP?\n",
        "  - Object-Oriented Programming makes updating and maintaining code simpler. Organizing code into separate classes, each handling a specific function, helps OOP keep things clear and easy to work with. You can add new features or make adjustments without impacting other parts of the code when changes are needed.\n",
        "\n",
        "Q17.What is the difference between a class variable and an instance variable?\n",
        "   - Class variables are useful for storing data that is shared among all instances of a class, such as constants or default values. Instance variables are used to store data that is unique to each instance of a class, such as object properties.\n",
        "\n",
        "Q18.What is multiple inheritance in Python?\n",
        "  - In Python, multiple inheritance is a feature where a class can inherit attributes and methods from more than one parent class. It allows you to create a class that combines behaviors or attributes from multiple other classes, which can be quite powerful.\n",
        "\n",
        "Q19.Explain the purpose of ‘’__str__’ and ‘__repr__’ ‘ methods in Python\n",
        "   - In Python, the __str__() and __repr__() methods are special methods used to define how objects are represented as strings. These methods are crucial for debugging and logging, making it easier to understand the output of objects.\n",
        "\n",
        "Q20.What is the significance of the ‘super()’ function in Python?\n",
        "  - Functions in Python. You use functions in programming to bundle a set of instructions that you want to use repeatedly or that, because of their complexity, are better self-contained in a sub-program and called when needed. That means that a function is a piece of code written to carry out a specified task.\n",
        "\n",
        "Q21.What is the significance of the __del__ method in Python?\n",
        "   - In Python, the __del__() method is referred to as a destructor method. It is called after an object's garbage collection occurs, which happens after all references to the item have been destroyed.\n",
        "\n",
        "Q22.What is the difference between @staticmethod and @classmethod in Python?\n",
        "  - The only difference between @classmethod and @staticmethod is that in the @classmethod, the class is bound to the method as the first argument (cls). This means that it is easy to access the class, in the method, via the cls argument, instead of having to use the full class name.\n",
        "\n",
        "Q23.How does polymorphism work in Python with inheritance?\n",
        "  - Polymorphism in Python allows objects of different classes to be treated as objects of a common superclass, enabling flexible and reusable code. It works primarily through method overriding and duck typing.\n",
        "\n",
        "Q24.What is method chaining in Python OOP?\n",
        "  - Method chaining is a common syntax for invoking multiple method calls in object-oriented programming languages. Each method returns an object, allowing the calls to be chained together in a single statement without requiring variables to store the intermediate results.\n",
        "\n",
        "Q25.What is the purpose of the __call__ method in Python?\n",
        " - The __call__ method is part of Python build-in methods also called dunder or magic methods because have two prefixes and suffix underscores in the method name. The main idea of __call__ method is to write a class and invoke it like a function.   \n",
        "       \n",
        "  "
      ],
      "metadata": {
        "id": "hNVqaFx4kk98"
      }
    },
    {
      "cell_type": "code",
      "source": [
        "#1. Create a parent class Animal with a method speak() that prints a generic message. Create a child class Dog that overrides the speak() method to print \"Bark!\".\n",
        "# Parent class\n",
        "class Animal:\n",
        "    def speak(self):\n",
        "        print(\"This animal makes a generic sound\")\n",
        "\n",
        "# Child class inheriting from Animal\n",
        "class Dog(Animal):\n",
        "    def speak(self):  # This overrides the parent's speak() method\n",
        "        print(\"Bark!\")\n",
        "\n",
        "# Demonstration\n",
        "if __name__ == \"__main__\":\n",
        "    # Create instances\n",
        "    generic_animal = Animal()\n",
        "    my_dog = Dog()\n",
        "\n",
        "    # Call the speak() method\n",
        "    print(\"Animal speaks:\")\n",
        "    generic_animal.speak()  # Calls Animal's version\n",
        "\n",
        "    print(\"\\nDog speaks:\")\n",
        "    my_dog.speak()         # Calls Dog's overridden version\n",
        "\n",
        "    # Polymorphism example\n",
        "    print(\"\\nPolymorphism in action:\")\n",
        "    animals = [Animal(), Dog()]\n",
        "    for animal in animals:\n",
        "        animal.speak()\n"
      ],
      "metadata": {
        "colab": {
          "base_uri": "https://localhost:8080/"
        },
        "id": "uCCLR-s9EGrY",
        "outputId": "31cc925a-4776-4739-dd59-4d297a58ce8a"
      },
      "execution_count": 2,
      "outputs": [
        {
          "output_type": "stream",
          "name": "stdout",
          "text": [
            "Animal speaks:\n",
            "This animal makes a generic sound\n",
            "\n",
            "Dog speaks:\n",
            "Bark!\n",
            "\n",
            "Polymorphism in action:\n",
            "This animal makes a generic sound\n",
            "Bark!\n"
          ]
        }
      ]
    },
    {
      "cell_type": "code",
      "source": [
        "#2.Write a program to create an abstract class Shape with a method area(). Derive classes Circle and Rectangle from it and implement the area() method in both.\n",
        "from abc import ABC, abstractmethod\n",
        "import math\n",
        "\n",
        "# Abstract base class\n",
        "class Shape(ABC):\n",
        "    @abstractmethod\n",
        "    def area(self):\n",
        "        pass\n",
        "\n",
        "# Concrete Circle class\n",
        "class Circle(Shape):\n",
        "    def __init__(self, radius):\n",
        "        self.radius = radius\n",
        "\n",
        "    def area(self):\n",
        "        return math.pi * self.radius ** 2\n",
        "\n",
        "# Concrete Rectangle class\n",
        "class Rectangle(Shape):\n",
        "    def __init__(self, length, width):\n",
        "        self.length = length\n",
        "        self.width = width\n",
        "\n",
        "    def area(self):\n",
        "        return self.length * self.width\n",
        "\n",
        "# Demonstration\n",
        "if __name__ == \"__main__\":\n",
        "    # Create shapes\n",
        "    circle = Circle(5)\n",
        "    rectangle = Rectangle(4, 6)\n",
        "\n",
        "    # Calculate and display areas\n",
        "    print(f\"Area of circle with radius 5: {circle.area():.2f}\")\n",
        "    print(f\"Area of rectangle 4x6: {rectangle.area()}\")\n",
        "\n",
        "    # Polymorphism example\n",
        "    shapes = [Circle(3), Rectangle(2, 5)]\n",
        "    for i, shape in enumerate(shapes, 1):\n",
        "        print(f\"Shape {i} area: {shape.area():.2f}\")"
      ],
      "metadata": {
        "colab": {
          "base_uri": "https://localhost:8080/"
        },
        "id": "YEa3VvW_ExQu",
        "outputId": "7af755f5-9fc7-4228-9b05-f0d60392eeed"
      },
      "execution_count": 3,
      "outputs": [
        {
          "output_type": "stream",
          "name": "stdout",
          "text": [
            "Area of circle with radius 5: 78.54\n",
            "Area of rectangle 4x6: 24\n",
            "Shape 1 area: 28.27\n",
            "Shape 2 area: 10.00\n"
          ]
        }
      ]
    },
    {
      "cell_type": "code",
      "source": [
        "#3. Implement a multi-level inheritance scenario where a class Vehicle has an attribute type. Derive a class Car and further derive a class ElectricCar that adds a battery attribute.\n",
        "class Vehicle:\n",
        "    def __init__(self, vehicle_type):\n",
        "        self.type = vehicle_type  # Common attribute for all vehicles\n",
        "\n",
        "    def display_info(self):\n",
        "        print(f\"Vehicle type: {self.type}\")\n",
        "\n",
        "class Car(Vehicle):\n",
        "    def __init__(self, vehicle_type, brand):\n",
        "        super().__init__(vehicle_type)  # Initialize Vehicle attributes\n",
        "        self.brand = brand  # Car-specific attribute\n",
        "\n",
        "    def display_info(self):\n",
        "        super().display_info()  # Call parent method\n",
        "        print(f\"Brand: {self.brand}\")\n",
        "\n",
        "class ElectricCar(Car):\n",
        "    def __init__(self, vehicle_type, brand, battery_capacity):\n",
        "        super().__init__(vehicle_type, brand)  # Initialize Car attributes\n",
        "        self.battery_capacity = battery_capacity  # ElectricCar-specific attribute (in kWh)\n",
        "\n",
        "    def display_info(self):\n",
        "        super().display_info()  # Call Car's display_info()\n",
        "        print(f\"Battery capacity: {self.battery_capacity} kWh\")\n",
        "\n",
        "# Demonstration\n",
        "if __name__ == \"__main__\":\n",
        "    # Create instances\n",
        "    my_vehicle = Vehicle(\"Generic\")\n",
        "    my_car = Car(\"Sedan\", \"Toyota\")\n",
        "    my_tesla = ElectricCar(\"SUV\", \"Tesla\", 75)\n",
        "\n",
        "    # Display information\n",
        "    print(\"--- Vehicle ---\")\n",
        "    my_vehicle.display_info()\n",
        "\n",
        "    print(\"\\n--- Car ---\")\n",
        "    my_car.display_info()\n",
        "\n",
        "    print(\"\\n--- Electric Car ---\")\n",
        "    my_tesla.display_info()"
      ],
      "metadata": {
        "colab": {
          "base_uri": "https://localhost:8080/"
        },
        "id": "3gcRRt4MFL5V",
        "outputId": "d8479e19-138c-46e1-f894-7edb62fca1ed"
      },
      "execution_count": 11,
      "outputs": [
        {
          "output_type": "stream",
          "name": "stdout",
          "text": [
            "--- Vehicle ---\n",
            "Vehicle type: Generic\n",
            "\n",
            "--- Car ---\n",
            "Vehicle type: Sedan\n",
            "Brand: Toyota\n",
            "\n",
            "--- Electric Car ---\n",
            "Vehicle type: SUV\n",
            "Brand: Tesla\n",
            "Battery capacity: 75 kWh\n"
          ]
        }
      ]
    },
    {
      "source": [
        "#4. Demonstrate polymorphism by creating a base class Bird with a method fly(). Create two derived classes Sparrow and Penguin that override the fly() method.\n",
        "class Bird:\n",
        "    def fly(self):\n",
        "        print(\"This bird can fly\")\n",
        "\n",
        "class Sparrow(Bird):\n",
        "    def fly(self):\n",
        "        print(\"Sparrow flies swiftly through the air!\")\n",
        "\n",
        "class Penguin(Bird):\n",
        "    def fly(self):\n",
        "        print(\"Penguin cannot fly, but it's an excellent swimmer!\")\n",
        "\n",
        "# Function demonstrating polymorphism\n",
        "def bird_flying_demo(bird):\n",
        "    bird.fly()\n",
        "\n",
        "# Create bird objects\n",
        "generic_bird = Bird()\n",
        "sparrow = Sparrow()\n",
        "penguin = Penguin()\n",
        "\n",
        "# Demonstrate polymorphism\n",
        "print(\"--- Bird Flying Demonstration ---\")\n",
        "bird_flying_demo(generic_bird)  # Output: This bird can fly\n",
        "bird_flying_demo(sparrow)       # Output: Sparrow flies swiftly through the air!\n",
        "bird_flying_demo(penguin)       # Output: Penguin cannot fly, but it's an excellent swimmer!\n",
        "\n",
        "# Alternative demonstration using a list\n",
        "print(\"\\n--- Bird Collection ---\")\n",
        "birds = [Bird(), Sparrow(), Penguin()]\n",
        "for bird in birds:\n",
        "    bird.fly()"
      ],
      "cell_type": "code",
      "metadata": {
        "colab": {
          "base_uri": "https://localhost:8080/"
        },
        "id": "GXjjqCsZF0NR",
        "outputId": "7d5e0df0-451f-4054-e977-37a7e24c207c"
      },
      "execution_count": 12,
      "outputs": [
        {
          "output_type": "stream",
          "name": "stdout",
          "text": [
            "--- Bird Flying Demonstration ---\n",
            "This bird can fly\n",
            "Sparrow flies swiftly through the air!\n",
            "Penguin cannot fly, but it's an excellent swimmer!\n",
            "\n",
            "--- Bird Collection ---\n",
            "This bird can fly\n",
            "Sparrow flies swiftly through the air!\n",
            "Penguin cannot fly, but it's an excellent swimmer!\n"
          ]
        }
      ]
    },
    {
      "cell_type": "code",
      "source": [
        "#5. Write a program to demonstrate encapsulation by creating a class BankAccount with private attributes balance and methods to deposit, withdraw, and check balance.\n",
        "class BankAccount:\n",
        "    def __init__(self, account_holder, initial_balance=0):\n",
        "        self.__account_holder = account_holder  # Private attribute\n",
        "        self.__balance = initial_balance       # Private attribute\n",
        "\n",
        "    # Public method to deposit money\n",
        "    def deposit(self, amount):\n",
        "        if amount > 0:\n",
        "            self.__balance += amount\n",
        "            print(f\"Deposited ₹{amount}. New balance: ₹{self.__balance}\")\n",
        "        else:\n",
        "            print(\"Deposit amount must be positive\")\n",
        "\n",
        "    # Public method to withdraw money\n",
        "    def withdraw(self, amount):\n",
        "        if 0 < amount <= self.__balance:\n",
        "            self.__balance -= amount\n",
        "            print(f\"Withdrew ₹{amount}. New balance: ₹{self.__balance}\")\n",
        "        else:\n",
        "            print(\"Invalid withdrawal amount or insufficient funds\")\n",
        "\n",
        "    # Public method to check balance\n",
        "    def get_balance(self):\n",
        "        return self.__balance\n",
        "\n",
        "    # Public method to get account holder name\n",
        "    def get_account_holder(self):\n",
        "        return self.__account_holder\n",
        "\n",
        "    # Public method to display account info\n",
        "    def display_account_info(self):\n",
        "        print(f\"Account Holder: {self.__account_holder}\")\n",
        "        print(f\"Current Balance: ₹{self.__balance}\")\n",
        "\n",
        "# Demonstration\n",
        "if __name__ == \"__main__\":\n",
        "    # Create an account\n",
        "    account = BankAccount(\"Rahul Sharma\", 1000)\n",
        "\n",
        "    # Test operations\n",
        "    account.display_account_info()\n",
        "    account.deposit(500)\n",
        "    account.withdraw(200)\n",
        "    account.withdraw(2000)  # Should fail (insufficient funds)\n",
        "    account.deposit(-100)   # Should fail (invalid amount)\n",
        "\n",
        "    # Try to access private attributes directly (won't work)\n",
        "    try:\n",
        "        print(account.__balance)  # This will raise an AttributeError\n",
        "    except AttributeError as e:\n",
        "        print(f\"Error: {e} (Encapsulation prevents direct access)\")\n",
        "\n",
        "    # Proper way to get balance\n",
        "    print(f\"Current balance via getter: ₹{account.get_balance()}\")\n"
      ],
      "metadata": {
        "colab": {
          "base_uri": "https://localhost:8080/"
        },
        "id": "A0jVaRWyGn19",
        "outputId": "21fb77dd-c858-48bc-952d-f249c6001e3c"
      },
      "execution_count": 15,
      "outputs": [
        {
          "output_type": "stream",
          "name": "stdout",
          "text": [
            "Account Holder: Rahul Sharma\n",
            "Current Balance: ₹1000\n",
            "Deposited ₹500. New balance: ₹1500\n",
            "Withdrew ₹200. New balance: ₹1300\n",
            "Invalid withdrawal amount or insufficient funds\n",
            "Deposit amount must be positive\n",
            "Error: 'BankAccount' object has no attribute '__balance' (Encapsulation prevents direct access)\n",
            "Current balance via getter: ₹1300\n"
          ]
        }
      ]
    },
    {
      "cell_type": "code",
      "source": [
        "#6. Demonstrate runtime polymorphism using a method play() in a base class Instrument. Derive classes Guitar and Piano that implement their own version of play().\n",
        "class Instrument:\n",
        "    def play(self):\n",
        "        print(\"An instrument is playing...\")\n",
        "\n",
        "class Guitar(Instrument):\n",
        "    def play(self):\n",
        "        print(\"🎸 Guitar is strumming chords!\")\n",
        "\n",
        "class Piano(Instrument):\n",
        "    def play(self):\n",
        "        print(\"🎹 Piano is playing a beautiful melody!\")\n",
        "\n",
        "# Function demonstrating runtime polymorphism\n",
        "def play_instrument(instrument):\n",
        "    instrument.play()\n",
        "\n",
        "# Create instruments\n",
        "generic_instrument = Instrument()\n",
        "my_guitar = Guitar()\n",
        "my_piano = Piano()\n",
        "\n",
        "# Demonstrate polymorphism\n",
        "print(\"--- Instrument Demonstration ---\")\n",
        "play_instrument(generic_instrument)  # Uses Instrument's play()\n",
        "play_instrument(my_guitar)           # Uses Guitar's play()\n",
        "play_instrument(my_piano)            # Uses Piano's play()\n",
        "\n",
        "# Alternative demonstration using a list\n",
        "print(\"\\n--- Orchestra Performance ---\")\n",
        "instruments = [Instrument(), Guitar(), Piano()]\n",
        "for instrument in instruments:\n",
        "    instrument.play()"
      ],
      "metadata": {
        "colab": {
          "base_uri": "https://localhost:8080/"
        },
        "id": "J7P6L1rHHEAn",
        "outputId": "b22b2252-08fa-425f-c67b-6e03f014d275"
      },
      "execution_count": 16,
      "outputs": [
        {
          "output_type": "stream",
          "name": "stdout",
          "text": [
            "--- Instrument Demonstration ---\n",
            "An instrument is playing...\n",
            "🎸 Guitar is strumming chords!\n",
            "🎹 Piano is playing a beautiful melody!\n",
            "\n",
            "--- Orchestra Performance ---\n",
            "An instrument is playing...\n",
            "🎸 Guitar is strumming chords!\n",
            "🎹 Piano is playing a beautiful melody!\n"
          ]
        }
      ]
    },
    {
      "cell_type": "code",
      "source": [
        "#7. Create a class MathOperations with a class method add_numbers() to add two numbers and a static method subtract_numbers() to subtract two numbers.\n",
        "class MathOperations:\n",
        "\n",
        "    @classmethod\n",
        "    def add_numbers(cls, num1, num2):\n",
        "        \"\"\"Class method to add two numbers\"\"\"\n",
        "        return num1 + num2\n",
        "\n",
        "    @staticmethod\n",
        "    def subtract_numbers(num1, num2):\n",
        "        \"\"\"Static method to subtract two numbers\"\"\"\n",
        "        return num1 - num2\n",
        "        # Using the class method\n",
        "sum_result = MathOperations.add_numbers(10, 5)\n",
        "print(sum_result)  # Output: 15\n",
        "\n",
        "# Using the static method\n",
        "difference = MathOperations.subtract_numbers(10, 5)\n",
        "print(difference)  # Output: 5"
      ],
      "metadata": {
        "colab": {
          "base_uri": "https://localhost:8080/"
        },
        "id": "0l6sUNdwH7vt",
        "outputId": "efa0e43e-35f0-4af0-b3db-6e8e5660928b"
      },
      "execution_count": 19,
      "outputs": [
        {
          "output_type": "stream",
          "name": "stdout",
          "text": [
            "15\n",
            "5\n"
          ]
        }
      ]
    },
    {
      "cell_type": "code",
      "source": [
        "#8. Implement a class Person with a class method to count the total number of persons created.\n",
        "class Person:\n",
        "    # Class variable to keep track of the total number of persons\n",
        "    total_persons = 0\n",
        "\n",
        "    def __init__(self, name):\n",
        "        self.name = name\n",
        "        # Increment the count whenever a new instance is created\n",
        "        Person.total_persons += 1\n",
        "\n",
        "    @classmethod\n",
        "    def get_total_persons(cls):\n",
        "        \"\"\"Class method to return the total number of persons created.\"\"\"\n",
        "        return cls.total_persons\n",
        "  # Create some Person instances\n",
        "person1 = Person(\"Alice\")\n",
        "person2 = Person(\"Bob\")\n",
        "person3 = Person(\"Charlie\")\n",
        "\n",
        "# Get the total number of persons created\n",
        "print(Person.get_total_persons())  # Output:  3"
      ],
      "metadata": {
        "colab": {
          "base_uri": "https://localhost:8080/"
        },
        "id": "PSnUxt9zJAgT",
        "outputId": "54c4ac30-8b65-4b0c-aa65-521bcce6d3c4"
      },
      "execution_count": 21,
      "outputs": [
        {
          "output_type": "stream",
          "name": "stdout",
          "text": [
            "3\n"
          ]
        }
      ]
    },
    {
      "cell_type": "code",
      "source": [
        "# 9. Write a class Fraction with attributes numerator and denominator. Override the str method to display the fraction as \"numerator/denominator\".\n",
        "class Fraction:\n",
        "    def __init__(self, numerator, denominator):\n",
        "        self.numerator = numerator\n",
        "        self.denominator = denominator\n",
        "\n",
        "    def __str__(self):\n",
        "        \"\"\"Override the __str__ method to display the fraction as 'numerator/denominator'.\"\"\"\n",
        "        return f\"{self.numerator}/{self.denominator}\"\n",
        "# Create a fraction\n",
        "f = Fraction(3, 4)\n",
        "\n",
        "# Print the fraction (implicitly calls __str__)\n",
        "print(f)  # Output: 3/4\n",
        "\n",
        "# Explicitly call str()\n",
        "print(str(f))  # Output: 3/4"
      ],
      "metadata": {
        "colab": {
          "base_uri": "https://localhost:8080/"
        },
        "id": "ZZNZyXlGJZ92",
        "outputId": "7561c795-e9dd-4ab5-ad5a-c1a15a4b661a"
      },
      "execution_count": 22,
      "outputs": [
        {
          "output_type": "stream",
          "name": "stdout",
          "text": [
            "3/4\n",
            "3/4\n"
          ]
        }
      ]
    },
    {
      "cell_type": "code",
      "source": [
        "#10. Demonstrate operator overloading by creating a class Vector and overriding the add method to add two vectors.\n",
        "class Vector:\n",
        "    def __init__(self, x, y):\n",
        "        self.x = x\n",
        "        self.y = y\n",
        "\n",
        "    def __add__(self, other):\n",
        "        \"\"\"Override the + operator to add two vectors component-wise.\"\"\"\n",
        "        if isinstance(other, Vector):\n",
        "            return Vector(self.x + other.x, self.y + other.y)\n",
        "        else:\n",
        "            raise TypeError(\"Operands must be of type 'Vector'\")\n",
        "\n",
        "    def __str__(self):\n",
        "        \"\"\"Override __str__ for a clean string representation.\"\"\"\n",
        "        return f\"Vector({self.x}, {self.y})\"\n",
        "# Create two vectors\n",
        "v1 = Vector(2, 3)\n",
        "v2 = Vector(5, 7)\n",
        "\n",
        "# Add them using the overloaded + operator\n",
        "v3 = v1 + v2\n",
        "\n",
        "print(v3)  # Output: Vector(7, 10)"
      ],
      "metadata": {
        "colab": {
          "base_uri": "https://localhost:8080/"
        },
        "id": "FKS8VkQBKBL8",
        "outputId": "b7336fbf-e1f2-4542-8282-675f6935a1e2"
      },
      "execution_count": 23,
      "outputs": [
        {
          "output_type": "stream",
          "name": "stdout",
          "text": [
            "Vector(7, 10)\n"
          ]
        }
      ]
    },
    {
      "cell_type": "code",
      "source": [
        "#11. Create a class Person with attributes name and age. Add a method greet() that prints \"Hello, my name is {name} and I am {age} years old.\"\n",
        "class Person:\n",
        "    def __init__(self, name, age):\n",
        "        self.name = name\n",
        "        self.age = age\n",
        "\n",
        "    def greet(self):\n",
        "        \"\"\"Prints a greeting message with the person's name and age.\"\"\"\n",
        "        print(f\"Hello, my name is {self.name} and I am {self.age} years old.\")\n",
        "# Create a Person instance\n",
        "person = Person(\"Alice\", 30)\n",
        "\n",
        "# Call the greet() method\n",
        "person.greet()"
      ],
      "metadata": {
        "colab": {
          "base_uri": "https://localhost:8080/"
        },
        "id": "HUhHRcVtN6Ih",
        "outputId": "29ba8624-7826-455e-8117-2d9b4baf6cf1"
      },
      "execution_count": 24,
      "outputs": [
        {
          "output_type": "stream",
          "name": "stdout",
          "text": [
            "Hello, my name is Alice and I am 30 years old.\n"
          ]
        }
      ]
    },
    {
      "cell_type": "code",
      "source": [
        "#12. Implement a class Student with attributes name and grades. Create a method average_grade() to compute the average of the grades.\n",
        "class Student:\n",
        "    def __init__(self, name, grades):\n",
        "        self.name = name\n",
        "        self.grades = grades\n",
        "\n",
        "    def average_grade(self):\n",
        "        \"\"\"Calculates and returns the average of the student's grades.\"\"\"\n",
        "        if not self.grades:  # Handle empty list to avoid division by zero\n",
        "            return 0.0\n",
        "        return sum(self.grades) / len(self.grades)\n",
        "# Create a student with grades\n",
        "student = Student(\"Alice\", [85, 90, 78, 92, 88])\n",
        "\n",
        "# Calculate and print the average grade\n",
        "print(f\"{student.name}'s average grade: {student.average_grade():.2f}\")"
      ],
      "metadata": {
        "colab": {
          "base_uri": "https://localhost:8080/"
        },
        "id": "Iox1wzK0OQK1",
        "outputId": "90f4d21d-cb57-46f0-a6c7-6d6eca60508a"
      },
      "execution_count": 26,
      "outputs": [
        {
          "output_type": "stream",
          "name": "stdout",
          "text": [
            "Alice's average grade: 86.60\n"
          ]
        }
      ]
    },
    {
      "cell_type": "code",
      "source": [
        "#13. Create a class Rectangle with methods set_dimensions() to set the dimensions and area() to calculate the area.\n",
        "class Rectangle:\n",
        "    def __init__(self, width=0, height=0):\n",
        "        self.width = width\n",
        "        self.height = height\n",
        "\n",
        "    def set_dimensions(self, width, height):\n",
        "        \"\"\"Sets the dimensions (width and height) of the rectangle.\"\"\"\n",
        "        self.width = width\n",
        "        self.height = height\n",
        "\n",
        "    def area(self):\n",
        "        \"\"\"Calculates and returns the area of the rectangle.\"\"\"\n",
        "        return self.width * self.height\n",
        "# Create a rectangle\n",
        "rect = Rectangle()  # Default dimensions (0, 0)\n",
        "\n",
        "# Set dimensions later\n",
        "rect.set_dimensions(5, 3)\n",
        "\n",
        "# Calculate and print the area\n",
        "print(f\"Area of the rectangle: {rect.area()}\")  # Output: 15"
      ],
      "metadata": {
        "colab": {
          "base_uri": "https://localhost:8080/"
        },
        "id": "c6ypt-h5Oqzm",
        "outputId": "c3089284-0409-4b69-931b-726c225b0342"
      },
      "execution_count": 27,
      "outputs": [
        {
          "output_type": "stream",
          "name": "stdout",
          "text": [
            "Area of the rectangle: 15\n"
          ]
        }
      ]
    },
    {
      "cell_type": "code",
      "source": [
        "#14. Create a class Employee with a method calculate_salary() that computes the salary based on hours worked and hourly rate. Create a derived class Manager that adds a bonus to the salary.\n",
        "class Employee:\n",
        "    def __init__(self, name, hours_worked, hourly_rate):\n",
        "        self.name = name\n",
        "        self.hours_worked = hours_worked\n",
        "        self.hourly_rate = hourly_rate\n",
        "\n",
        "    def calculate_salary(self):\n",
        "        \"\"\"Calculates the base salary based on hours worked and hourly rate.\"\"\"\n",
        "        return self.hours_worked * self.hourly_rate\n",
        "class Manager(Employee):\n",
        "    def __init__(self, name, hours_worked, hourly_rate, bonus):\n",
        "        super().__init__(name, hours_worked, hourly_rate)  # Initialize Employee attributes\n",
        "        self.bonus = bonus  # Additional attribute for Manager\n",
        "\n",
        "    def calculate_salary(self):\n",
        "        \"\"\"Calculates the total salary (base salary + bonus).\"\"\"\n",
        "        base_salary = super().calculate_salary()  # Reuse Employee's logic\n",
        "        return base_salary + self.bonus\n",
        "# Create an Employee\n",
        "emp = Employee(\"Alice\", 40, 20)\n",
        "print(f\"{emp.name}'s salary: ${emp.calculate_salary()}\")  # Output: $800\n",
        "\n",
        "# Create a Manager\n",
        "mgr = Manager(\"Bob\", 40, 20, 1000)\n",
        "print(f\"{mgr.name}'s salary: ${mgr.calculate_salary()}\")  # Output: $1800 (800 + 1000)"
      ],
      "metadata": {
        "colab": {
          "base_uri": "https://localhost:8080/"
        },
        "id": "WAJNWZL4O5Z-",
        "outputId": "cfabd363-8b14-4cdd-cb94-ed59205ccabf"
      },
      "execution_count": 28,
      "outputs": [
        {
          "output_type": "stream",
          "name": "stdout",
          "text": [
            "Alice's salary: $800\n",
            "Bob's salary: $1800\n"
          ]
        }
      ]
    },
    {
      "cell_type": "code",
      "source": [
        "#15. Create a class Product with attributes name, price, and quantity. Implement a method total_price() that calculates the total price of the product.\n",
        "class Product:\n",
        "    def __init__(self, name: str, price: float, quantity: int):\n",
        "        self.name = name\n",
        "        self.price = price\n",
        "        self.quantity = quantity\n",
        "\n",
        "    def total_price(self) -> float:\n",
        "        \"\"\"Calculates the total price of the product (price × quantity).\"\"\"\n",
        "        return self.price * self.quantity\n",
        "# Create a product\n",
        "laptop = Product(\"Laptop\", 999.99, 2)\n",
        "\n",
        "# Calculate and print the total price\n",
        "print(f\"Total price for {laptop.name}: ${laptop.total_price():.2f}\")\n",
        "# Output: Total price for Laptop: $1999.98\n",
        "\n"
      ],
      "metadata": {
        "colab": {
          "base_uri": "https://localhost:8080/"
        },
        "id": "OHWqf7d-Pq98",
        "outputId": "2622050c-5a52-4b96-cb21-6ea108d88793"
      },
      "execution_count": 29,
      "outputs": [
        {
          "output_type": "stream",
          "name": "stdout",
          "text": [
            "Total price for Laptop: $1999.98\n"
          ]
        }
      ]
    },
    {
      "cell_type": "code",
      "source": [
        "#16. Create a class Animal with an abstract method sound(). Create two derived classes Cow and Sheep that implement the sound() method.\n",
        "from abc import ABC, abstractmethod\n",
        "\n",
        "class Animal(ABC):  # ABC makes this an abstract base class\n",
        "    @abstractmethod\n",
        "    def sound(self):\n",
        "        \"\"\"Abstract method that must be implemented by subclasses.\"\"\"\n",
        "        pass\n",
        "\n",
        "class Cow(Animal):\n",
        "    def sound(self):\n",
        "        \"\"\"Cow's sound implementation.\"\"\"\n",
        "        return \"Moo!\"\n",
        "\n",
        "class Sheep(Animal):\n",
        "    def sound(self):\n",
        "        \"\"\"Sheep's sound implementation.\"\"\"\n",
        "        return \"Baa!\"\n",
        "# Create instances\n",
        "cow = Cow()\n",
        "sheep = Sheep()\n",
        "\n",
        "# Call their sound methods\n",
        "print(cow.sound())   # Output: Moo!\n",
        "print(sheep.sound()) # Output: Baa!\n",
        "\n",
        "# Trying to instantiate Animal directly would raise an error:\n",
        "# animal = Animal()  # TypeError: Can't instantiate abstract class Animal with abstract method sound"
      ],
      "metadata": {
        "colab": {
          "base_uri": "https://localhost:8080/"
        },
        "id": "JEBUEq5JP-Bk",
        "outputId": "e08fe173-2c7f-42c8-cb08-f6fa85ea7c17"
      },
      "execution_count": 30,
      "outputs": [
        {
          "output_type": "stream",
          "name": "stdout",
          "text": [
            "Moo!\n",
            "Baa!\n"
          ]
        }
      ]
    },
    {
      "cell_type": "code",
      "source": [
        "#17. Create a class Book with attributes title, author, and year_published. Add a method get_book_info() that returns a formatted string with the book's details.\n",
        "class Book:\n",
        "    def __init__(self, title: str, author: str, year_published: int):\n",
        "        self.title = title\n",
        "        self.author = author\n",
        "        self.year_published = year_published\n",
        "\n",
        "    def get_book_info(self) -> str:\n",
        "        \"\"\"Returns a formatted string with the book's details.\"\"\"\n",
        "        return f'\"{self.title}\" by {self.author} ({self.year_published})'\n",
        "# Create a book instance\n",
        "my_book = Book(\"To Kill a Mockingbird\", \"Harper Lee\", 1960)\n",
        "\n",
        "# Get and print the book info\n",
        "print(my_book.get_book_info())\n",
        "# Output: \"To Kill a Mockingbird\" by Harper Lee (1960)"
      ],
      "metadata": {
        "colab": {
          "base_uri": "https://localhost:8080/"
        },
        "id": "Y_AQpSRWQk1S",
        "outputId": "5fa04f76-5183-4f51-ac9d-8b1ffd7268cd"
      },
      "execution_count": 34,
      "outputs": [
        {
          "output_type": "stream",
          "name": "stdout",
          "text": [
            "\"To Kill a Mockingbird\" by Harper Lee (1960)\n"
          ]
        }
      ]
    },
    {
      "cell_type": "code",
      "source": [
        "#18.Create a class House with attributes address and price. Create a derived class Mansion that adds an attribute number_of_rooms.\n",
        "class House:\n",
        "    def __init__(self, address, price):\n",
        "        self.address = address\n",
        "        self.price = price\n",
        "\n",
        "    def __str__(self):\n",
        "        return f\"House at {self.address}, priced at ${self.price:,}\"\n",
        "\n",
        "\n",
        "class Mansion(House):\n",
        "    def __init__(self, address, price, number_of_rooms):\n",
        "        super().__init__(address, price)  # Initialize base class attributes\n",
        "        self.number_of_rooms = number_of_rooms  # Add new attribute\n",
        "\n",
        "    def __str__(self):\n",
        "        return (f\"Mansion at {self.address} with {self.number_of_rooms} rooms, \"\n",
        "                f\"priced at ${self.price:,}\")\n",
        "# Create a regular house\n",
        "my_house = House(\"123 Main St\", 350000)\n",
        "print(my_house)\n",
        "# Output: House at 123 Main St, priced at $350,000\n",
        "\n",
        "# Create a mansion\n",
        "my_mansion = Mansion(\"1 Billionaires Row\", 25000000, 15)\n",
        "print(my_mansion)\n",
        "# Output: Mansion at 1 Billionaires Row with 15 rooms, priced at $25,000,000"
      ],
      "metadata": {
        "colab": {
          "base_uri": "https://localhost:8080/"
        },
        "id": "sSrcmBmhQyWw",
        "outputId": "ab440411-adf7-4eba-df31-f73c43f52532"
      },
      "execution_count": 32,
      "outputs": [
        {
          "output_type": "stream",
          "name": "stdout",
          "text": [
            "House at 123 Main St, priced at $350,000\n",
            "Mansion at 1 Billionaires Row with 15 rooms, priced at $25,000,000\n"
          ]
        }
      ]
    }
  ]
}